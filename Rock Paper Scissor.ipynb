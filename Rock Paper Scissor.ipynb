{
 "cells": [
  {
   "cell_type": "code",
   "execution_count": 13,
   "metadata": {},
   "outputs": [],
   "source": [
    "import random as rd\n",
    "import datetime as dt\n",
    "\n",
    "play = 3\n",
    "sign = ['SCISSOR', 'PAPER', 'ROCK']\n",
    "p1_score, p2_score = 0,0\n"
   ]
  },
  {
   "cell_type": "code",
   "execution_count": 14,
   "metadata": {},
   "outputs": [],
   "source": [
    "def Clear_Game():\n",
    "    f = open(\"Game.txt\", \"w\")\n",
    "    f.write(\"SCORE BOARD                                    DATE AND TIME\")\n",
    "    f.close()"
   ]
  },
  {
   "cell_type": "code",
   "execution_count": 15,
   "metadata": {},
   "outputs": [],
   "source": [
    "mode = input(\"Do you want to continue your previous game or play a new game?(continue/new): \")\n",
    "#print(mode)\n",
    "if mode.lower() == 'new':\n",
    "    print(mode)\n",
    "    Clear_Game()   "
   ]
  },
  {
   "cell_type": "code",
   "execution_count": 16,
   "metadata": {},
   "outputs": [],
   "source": [
    "def Results(p1_score, p2_score):    \n",
    "    print(\"GAME OVER!\")\n",
    "    final = (\"You = {} VS Computer = {}\".format(p1_score, p2_score))\n",
    "    print(final)\n",
    "    date = dt.datetime.now().strftime(\"              %m/%d/%Y  %H:%M:%S\")\n",
    "    return final,date"
   ]
  },
  {
   "cell_type": "code",
   "execution_count": 17,
   "metadata": {},
   "outputs": [],
   "source": [
    "def Timer(score):\n",
    "    f = open(\"Game.txt\", \"a\")\n",
    "    f.write(\"\\n\" + score[0])\n",
    "    f.write(score[1])\n",
    "    f.close()"
   ]
  },
  {
   "cell_type": "code",
   "execution_count": 18,
   "metadata": {},
   "outputs": [
    {
     "name": "stdout",
     "output_type": "stream",
     "text": [
      "Computer Sign:  SCISSOR\n",
      "You wins!\n",
      " \n",
      "Computer Sign:  ROCK\n",
      "You wins!\n",
      " \n",
      "Computer Sign:  PAPER\n",
      "DRAW!!\n",
      " \n",
      "GAME OVER!\n",
      "You = 2 VS Computer = 0\n"
     ]
    }
   ],
   "source": [
    "while play >0 :\n",
    "    player1 = input(\"Your Sign: \").upper()\n",
    "    if player1 in sign and player1 != \"QUIT\":\n",
    "        player2 = rd.choices(sign, [1/3, 1/3, 1/3])[0]\n",
    "        print(\"Computer Sign: \", player2)\n",
    "        \n",
    "        if player1 == sign[0] and player2 == sign[1] or player1 == sign[1] and player2 == sign[2] or player1 == sign[2] and player2 == sign[0]:\n",
    "            print(\"You wins!\")\n",
    "            print(\" \")\n",
    "            p1_score +=1\n",
    "            \n",
    "        elif player2 == sign[0] and player1 == sign[1] or player2 == sign[1] and player1 == sign[2] or player2 == sign[2] and player1 == sign[0]:\n",
    "            print(\"Computer wins!\")\n",
    "            print(\" \")\n",
    "            p2_score +=1\n",
    "            \n",
    "        else:\n",
    "            print(\"DRAW!!\")\n",
    "            print(\" \")\n",
    "        play -=1\n",
    "            \n",
    "    elif player1 not in sign and player1 != \"QUIT\":\n",
    "        print(\"Enter a valid sign!\")\n",
    "        print(\" \")\n",
    "        \n",
    "    elif player1 == \"QUIT\":\n",
    "            res = Results(p1_score, p2_score)\n",
    "            Timer(res)\n",
    "            break\n",
    "            \n",
    "if play == 0:\n",
    "    res = Results(p1_score, p2_score)\n",
    "    Timer(res)\n",
    "    "
   ]
  },
  {
   "cell_type": "code",
   "execution_count": null,
   "metadata": {},
   "outputs": [],
   "source": []
  },
  {
   "cell_type": "code",
   "execution_count": null,
   "metadata": {},
   "outputs": [],
   "source": []
  }
 ],
 "metadata": {
  "kernelspec": {
   "display_name": "Python 3",
   "language": "python",
   "name": "python3"
  },
  "language_info": {
   "codemirror_mode": {
    "name": "ipython",
    "version": 3
   },
   "file_extension": ".py",
   "mimetype": "text/x-python",
   "name": "python",
   "nbconvert_exporter": "python",
   "pygments_lexer": "ipython3",
   "version": "3.9.7"
  }
 },
 "nbformat": 4,
 "nbformat_minor": 2
}
